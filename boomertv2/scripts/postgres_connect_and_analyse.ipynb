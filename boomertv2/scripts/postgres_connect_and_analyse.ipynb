{
 "cells": [
  {
   "cell_type": "markdown",
   "metadata": {},
   "source": [
    "# PostgreSQL Connection and Analysis Notebook\n",
    "\n",
    "This notebook provides functionality to connect to PostgreSQL using the configuration from `config_boomer_load.yml` and run queries with results returned as pandas DataFrames."
   ]
  },
  {
   "cell_type": "markdown",
   "metadata": {},
   "source": [
    "## Environment Setup\n",
    "\n",
    "First, let's ensure all required packages are installed in the current kernel environment."
   ]
  },
  {
   "cell_type": "code",
   "execution_count": 3,
   "metadata": {},
   "outputs": [
    {
     "name": "stdout",
     "output_type": "stream",
     "text": [
      "Installing required packages...\n",
      "Collecting psycopg2-binary==2.9.7\n",
      "  Downloading psycopg2_binary-2.9.7-cp310-cp310-macosx_11_0_arm64.whl.metadata (4.4 kB)\n",
      "Downloading psycopg2_binary-2.9.7-cp310-cp310-macosx_11_0_arm64.whl (2.5 MB)\n",
      "\u001b[2K   \u001b[90m━━━━━━━━━━━━━━━━━━━━━━━━━━━━━━━━━━━━━━━━\u001b[0m \u001b[32m2.5/2.5 MB\u001b[0m \u001b[31m2.1 MB/s\u001b[0m eta \u001b[36m0:00:00\u001b[0ma \u001b[36m0:00:01\u001b[0m\n",
      "\u001b[?25hInstalling collected packages: psycopg2-binary\n",
      "Successfully installed psycopg2-binary-2.9.7\n",
      "✅ psycopg2-binary==2.9.7 installed successfully\n",
      "Requirement already satisfied: pandas in /opt/anaconda3/envs/agentic-rag-neo4j-new/lib/python3.10/site-packages (2.3.1)\n",
      "Requirement already satisfied: numpy>=1.22.4 in /opt/anaconda3/envs/agentic-rag-neo4j-new/lib/python3.10/site-packages (from pandas) (2.0.1)\n",
      "Requirement already satisfied: python-dateutil>=2.8.2 in /opt/anaconda3/envs/agentic-rag-neo4j-new/lib/python3.10/site-packages (from pandas) (2.9.0.post0)\n",
      "Requirement already satisfied: pytz>=2020.1 in /opt/anaconda3/envs/agentic-rag-neo4j-new/lib/python3.10/site-packages (from pandas) (2025.2)\n",
      "Requirement already satisfied: tzdata>=2022.7 in /opt/anaconda3/envs/agentic-rag-neo4j-new/lib/python3.10/site-packages (from pandas) (2025.2)\n",
      "Requirement already satisfied: six>=1.5 in /opt/anaconda3/envs/agentic-rag-neo4j-new/lib/python3.10/site-packages (from python-dateutil>=2.8.2->pandas) (1.17.0)\n",
      "✅ pandas installed successfully\n",
      "Collecting PyYAML==6.0.1\n",
      "  Downloading PyYAML-6.0.1-cp310-cp310-macosx_11_0_arm64.whl.metadata (2.1 kB)\n",
      "Downloading PyYAML-6.0.1-cp310-cp310-macosx_11_0_arm64.whl (169 kB)\n",
      "Installing collected packages: PyYAML\n",
      "  Attempting uninstall: PyYAML\n",
      "    Found existing installation: PyYAML 6.0.2\n",
      "    Uninstalling PyYAML-6.0.2:\n",
      "      Successfully uninstalled PyYAML-6.0.2\n",
      "Successfully installed PyYAML-6.0.1\n",
      "✅ PyYAML==6.0.1 installed successfully\n",
      "\n",
      "==================================================\n",
      "Package installation completed!\n",
      "==================================================\n"
     ]
    }
   ],
   "source": [
    "# Install required packages if not already installed\n",
    "import subprocess\n",
    "import sys\n",
    "\n",
    "def install_package(package):\n",
    "    \"\"\"Install a package using pip in the current kernel environment.\"\"\"\n",
    "    try:\n",
    "        subprocess.check_call([sys.executable, \"-m\", \"pip\", \"install\", package])\n",
    "        print(f\"✅ {package} installed successfully\")\n",
    "    except subprocess.CalledProcessError as e:\n",
    "        print(f\"❌ Error installing {package}: {e}\")\n",
    "\n",
    "# Required packages\n",
    "required_packages = [\n",
    "    \"psycopg2-binary==2.9.7\",\n",
    "    \"pandas\",\n",
    "    \"PyYAML==6.0.1\"\n",
    "]\n",
    "\n",
    "print(\"Installing required packages...\")\n",
    "for package in required_packages:\n",
    "    install_package(package)\n",
    "\n",
    "print(\"\\n\" + \"=\"*50)\n",
    "print(\"Package installation completed!\")\n",
    "print(\"=\"*50)"
   ]
  },
  {
   "cell_type": "code",
   "execution_count": 4,
   "metadata": {},
   "outputs": [
    {
     "name": "stdout",
     "output_type": "stream",
     "text": [
      "✅ pandas imported successfully\n",
      "✅ psycopg2 imported successfully (version: 2.9.7 (dt dec pq3 ext lo64))\n",
      "✅ yaml imported successfully\n",
      "\n",
      "==================================================\n",
      "All libraries imported successfully!\n",
      "==================================================\n"
     ]
    }
   ],
   "source": [
    "# Import required libraries with error handling\n",
    "try:\n",
    "    import pandas as pd\n",
    "    print(\"✅ pandas imported successfully\")\n",
    "except ImportError as e:\n",
    "    print(f\"❌ Error importing pandas: {e}\")\n",
    "\n",
    "try:\n",
    "    import psycopg2\n",
    "    print(f\"✅ psycopg2 imported successfully (version: {psycopg2.__version__})\")\n",
    "except ImportError as e:\n",
    "    print(f\"❌ Error importing psycopg2: {e}\")\n",
    "    print(\"Please run the installation cell above first!\")\n",
    "\n",
    "try:\n",
    "    import yaml\n",
    "    print(\"✅ yaml imported successfully\")\n",
    "except ImportError as e:\n",
    "    print(f\"❌ Error importing yaml: {e}\")\n",
    "\n",
    "import os\n",
    "import sys\n",
    "from typing import Optional, Dict, Any\n",
    "\n",
    "# Add src directory to path for imports\n",
    "sys.path.append(os.path.join(os.path.dirname(os.getcwd()), 'src'))\n",
    "\n",
    "print(\"\\n\" + \"=\"*50)\n",
    "print(\"All libraries imported successfully!\")\n",
    "print(\"=\"*50)"
   ]
  },
  {
   "cell_type": "code",
   "execution_count": 6,
   "metadata": {},
   "outputs": [
    {
     "name": "stdout",
     "output_type": "stream",
     "text": [
      "Configuration loaded successfully from ../config/config_boomer_load.yml\n",
      "Available configuration sections: ['database', 'queries', 'neo4j_load_config']\n"
     ]
    }
   ],
   "source": [
    "def load_config(config_path: str = '../config/config_boomer_load.yml') -> Dict[str, Any]:\n",
    "    \"\"\"\n",
    "    Load configuration from YAML file.\n",
    "    \n",
    "    Args:\n",
    "        config_path: Path to the configuration file\n",
    "        \n",
    "    Returns:\n",
    "        Dictionary containing configuration data\n",
    "    \"\"\"\n",
    "    try:\n",
    "        with open(config_path, 'r') as file:\n",
    "            config = yaml.safe_load(file)\n",
    "        print(f\"Configuration loaded successfully from {config_path}\")\n",
    "        return config\n",
    "    except FileNotFoundError:\n",
    "        print(f\"Configuration file not found: {config_path}\")\n",
    "        raise\n",
    "    except yaml.YAMLError as e:\n",
    "        print(f\"Error parsing YAML file: {e}\")\n",
    "        raise\n",
    "\n",
    "# Load configuration\n",
    "config = load_config()\n",
    "print(\"Available configuration sections:\", list(config.keys()))"
   ]
  },
  {
   "cell_type": "code",
   "execution_count": 7,
   "metadata": {},
   "outputs": [
    {
     "name": "stdout",
     "output_type": "stream",
     "text": [
      "PostgreSQL connection parameters:\n",
      "  host: 4.150.184.135\n",
      "  port: 5432\n",
      "  database: SERP_TREND_DEV_DB\n",
      "  user: serptrend_user\n",
      "  password: ***********************\n"
     ]
    }
   ],
   "source": [
    "def parse_postgres_config(config_string: str) -> Dict[str, str]:\n",
    "    \"\"\"\n",
    "    Parse PostgreSQL configuration string into connection parameters.\n",
    "    \n",
    "    Args:\n",
    "        config_string: Multi-line string containing PostgreSQL configuration\n",
    "        \n",
    "    Returns:\n",
    "        Dictionary with connection parameters\n",
    "    \"\"\"\n",
    "    db_config = {}\n",
    "    \n",
    "    for line in config_string.strip().split('\\n'):\n",
    "        if ':' in line:\n",
    "            key, value = line.split(':', 1)\n",
    "            db_config[key.strip()] = value.strip()\n",
    "    \n",
    "    return db_config\n",
    "\n",
    "# Parse PostgreSQL configuration\n",
    "postgres_config_str = config['database']['postgres']\n",
    "postgres_config = parse_postgres_config(postgres_config_str)\n",
    "print(\"PostgreSQL connection parameters:\")\n",
    "for key, value in postgres_config.items():\n",
    "    if key == 'password':\n",
    "        print(f\"  {key}: {'*' * len(value)}\")\n",
    "    else:\n",
    "        print(f\"  {key}: {value}\")"
   ]
  },
  {
   "cell_type": "code",
   "execution_count": 8,
   "metadata": {},
   "outputs": [
    {
     "name": "stdout",
     "output_type": "stream",
     "text": [
      "PostgreSQL query function defined successfully!\n"
     ]
    }
   ],
   "source": [
    "def execute_postgres_query(query: str, config: Dict[str, str]) -> pd.DataFrame:\n",
    "    \"\"\"\n",
    "    Execute a PostgreSQL query and return results as a pandas DataFrame.\n",
    "    \n",
    "    Args:\n",
    "        query: SQL query to execute\n",
    "        config: PostgreSQL connection configuration\n",
    "        \n",
    "    Returns:\n",
    "        pandas DataFrame containing query results\n",
    "    \"\"\"\n",
    "    connection = None\n",
    "    try:\n",
    "        # Establish connection\n",
    "        connection = psycopg2.connect(\n",
    "            host=config['host'],\n",
    "            port=config['port'],\n",
    "            database=config['database'],\n",
    "            user=config['user'],\n",
    "            password=config['password']\n",
    "        )\n",
    "        \n",
    "        print(f\"Connected to PostgreSQL database: {config['database']}\")\n",
    "        \n",
    "        # Execute query and return as DataFrame\n",
    "        df = pd.read_sql_query(query, connection)\n",
    "        \n",
    "        print(f\"Query executed successfully. Retrieved {len(df)} rows.\")\n",
    "        return df\n",
    "        \n",
    "    except psycopg2.Error as e:\n",
    "        print(f\"PostgreSQL error: {e}\")\n",
    "        raise\n",
    "    except Exception as e:\n",
    "        print(f\"Unexpected error: {e}\")\n",
    "        raise\n",
    "    finally:\n",
    "        if connection:\n",
    "            connection.close()\n",
    "            print(\"Database connection closed.\")\n",
    "\n",
    "print(\"PostgreSQL query function defined successfully!\")"
   ]
  },
  {
   "cell_type": "code",
   "execution_count": 15,
   "metadata": {},
   "outputs": [
    {
     "name": "stdout",
     "output_type": "stream",
     "text": [
      "Executing sample query: SELECT * FROM structured_content LIMIT 2;\n",
      "--------------------------------------------------\n",
      "Connected to PostgreSQL database: SERP_TREND_DEV_DB\n"
     ]
    },
    {
     "name": "stderr",
     "output_type": "stream",
     "text": [
      "/var/folders/ct/w3w0zg9d5w10mhf7h_d_xwym0000gn/T/ipykernel_53797/3822124451.py:26: UserWarning: pandas only supports SQLAlchemy connectable (engine/connection) or database string URI or sqlite3 DBAPI2 connection. Other DBAPI2 objects are not tested. Please consider using SQLAlchemy.\n",
      "  df = pd.read_sql_query(query, connection)\n"
     ]
    },
    {
     "name": "stdout",
     "output_type": "stream",
     "text": [
      "Query executed successfully. Retrieved 2 rows.\n",
      "Database connection closed.\n",
      "\n",
      "Query Results:\n",
      "Shape: (2, 18)\n",
      "Columns: ['id', 'url', 'raw_html_id', 'domain', 'site_name', 'title', 'author', 'publish_date', 'content', 'summary', 'tags', 'language', 'word_count', 'meta_description', 'extracted_at', 'is_latest', 'run_id', 'status_neo4j']\n",
      "\n",
      "First few rows:\n"
     ]
    },
    {
     "data": {
      "text/html": [
       "<div>\n",
       "<style scoped>\n",
       "    .dataframe tbody tr th:only-of-type {\n",
       "        vertical-align: middle;\n",
       "    }\n",
       "\n",
       "    .dataframe tbody tr th {\n",
       "        vertical-align: top;\n",
       "    }\n",
       "\n",
       "    .dataframe thead th {\n",
       "        text-align: right;\n",
       "    }\n",
       "</style>\n",
       "<table border=\"1\" class=\"dataframe\">\n",
       "  <thead>\n",
       "    <tr style=\"text-align: right;\">\n",
       "      <th></th>\n",
       "      <th>id</th>\n",
       "      <th>url</th>\n",
       "      <th>raw_html_id</th>\n",
       "      <th>domain</th>\n",
       "      <th>site_name</th>\n",
       "      <th>title</th>\n",
       "      <th>author</th>\n",
       "      <th>publish_date</th>\n",
       "      <th>content</th>\n",
       "      <th>summary</th>\n",
       "      <th>tags</th>\n",
       "      <th>language</th>\n",
       "      <th>word_count</th>\n",
       "      <th>meta_description</th>\n",
       "      <th>extracted_at</th>\n",
       "      <th>is_latest</th>\n",
       "      <th>run_id</th>\n",
       "      <th>status_neo4j</th>\n",
       "    </tr>\n",
       "  </thead>\n",
       "  <tbody>\n",
       "    <tr>\n",
       "      <th>0</th>\n",
       "      <td>36</td>\n",
       "      <td>https://www.kff.org/medicaid/issue-brief/healt...</td>\n",
       "      <td>37</td>\n",
       "      <td>kff.org</td>\n",
       "      <td>None</td>\n",
       "      <td>Health Provisions in the 2025 Federal Budget ...</td>\n",
       "      <td>None</td>\n",
       "      <td>None</td>\n",
       "      <td>None</td>\n",
       "      <td>This summary describes the health care provisi...</td>\n",
       "      <td>[Medicare, Medicaid, Affordable Care Act, Heal...</td>\n",
       "      <td>en</td>\n",
       "      <td>None</td>\n",
       "      <td>None</td>\n",
       "      <td>2025-08-11 10:18:44.264541+00:00</td>\n",
       "      <td>True</td>\n",
       "      <td>935ad96d-6fcf-4aa4-a045-f778afdbe6ee</td>\n",
       "      <td>False</td>\n",
       "    </tr>\n",
       "    <tr>\n",
       "      <th>1</th>\n",
       "      <td>37</td>\n",
       "      <td>https://oig.hhs.gov/</td>\n",
       "      <td>38</td>\n",
       "      <td>hhs.gov</td>\n",
       "      <td>None</td>\n",
       "      <td>Office of Inspector General | Government Overs...</td>\n",
       "      <td>None</td>\n",
       "      <td>None</td>\n",
       "      <td>None</td>\n",
       "      <td>A majority of the OIG's resources goes toward ...</td>\n",
       "      <td>[Medicare, Medicaid, government oversight, fraud]</td>\n",
       "      <td>en</td>\n",
       "      <td>None</td>\n",
       "      <td>None</td>\n",
       "      <td>2025-08-11 10:18:45.257664+00:00</td>\n",
       "      <td>True</td>\n",
       "      <td>935ad96d-6fcf-4aa4-a045-f778afdbe6ee</td>\n",
       "      <td>False</td>\n",
       "    </tr>\n",
       "  </tbody>\n",
       "</table>\n",
       "</div>"
      ],
      "text/plain": [
       "   id                                                url  raw_html_id  \\\n",
       "0  36  https://www.kff.org/medicaid/issue-brief/healt...           37   \n",
       "1  37                               https://oig.hhs.gov/           38   \n",
       "\n",
       "    domain site_name                                              title  \\\n",
       "0  kff.org      None   Health Provisions in the 2025 Federal Budget ...   \n",
       "1  hhs.gov      None  Office of Inspector General | Government Overs...   \n",
       "\n",
       "  author publish_date content  \\\n",
       "0   None         None    None   \n",
       "1   None         None    None   \n",
       "\n",
       "                                             summary  \\\n",
       "0  This summary describes the health care provisi...   \n",
       "1  A majority of the OIG's resources goes toward ...   \n",
       "\n",
       "                                                tags language word_count  \\\n",
       "0  [Medicare, Medicaid, Affordable Care Act, Heal...       en       None   \n",
       "1  [Medicare, Medicaid, government oversight, fraud]       en       None   \n",
       "\n",
       "  meta_description                     extracted_at  is_latest  \\\n",
       "0             None 2025-08-11 10:18:44.264541+00:00       True   \n",
       "1             None 2025-08-11 10:18:45.257664+00:00       True   \n",
       "\n",
       "                                 run_id  status_neo4j  \n",
       "0  935ad96d-6fcf-4aa4-a045-f778afdbe6ee         False  \n",
       "1  935ad96d-6fcf-4aa4-a045-f778afdbe6ee         False  "
      ]
     },
     "metadata": {},
     "output_type": "display_data"
    }
   ],
   "source": [
    "# Test the connection and function with the sample query\n",
    "sample_query = \"SELECT * FROM structured_content LIMIT 2;\"\n",
    "\n",
    "print(f\"Executing sample query: {sample_query}\")\n",
    "print(\"-\" * 50)\n",
    "\n",
    "try:\n",
    "    result_df = execute_postgres_query(sample_query, postgres_config)\n",
    "    \n",
    "    print(\"\\nQuery Results:\")\n",
    "    print(f\"Shape: {result_df.shape}\")\n",
    "    print(f\"Columns: {list(result_df.columns)}\")\n",
    "    print(\"\\nFirst few rows:\")\n",
    "    display(result_df.head())\n",
    "    \n",
    "except Exception as e:\n",
    "    print(f\"Error executing query: {e}\")"
   ]
  },
  {
   "cell_type": "code",
   "execution_count": 16,
   "metadata": {},
   "outputs": [
    {
     "data": {
      "text/plain": [
       "Index(['id', 'url', 'raw_html_id', 'domain', 'site_name', 'title', 'author',\n",
       "       'publish_date', 'content', 'summary', 'tags', 'language', 'word_count',\n",
       "       'meta_description', 'extracted_at', 'is_latest', 'run_id',\n",
       "       'status_neo4j'],\n",
       "      dtype='object')"
      ]
     },
     "execution_count": 16,
     "metadata": {},
     "output_type": "execute_result"
    }
   ],
   "source": [
    "result_df.columns"
   ]
  },
  {
   "cell_type": "code",
   "execution_count": 18,
   "metadata": {},
   "outputs": [
    {
     "name": "stdout",
     "output_type": "stream",
     "text": [
      "Connected to PostgreSQL database: SERP_TREND_DEV_DB\n"
     ]
    },
    {
     "name": "stderr",
     "output_type": "stream",
     "text": [
      "/var/folders/ct/w3w0zg9d5w10mhf7h_d_xwym0000gn/T/ipykernel_53797/3822124451.py:26: UserWarning: pandas only supports SQLAlchemy connectable (engine/connection) or database string URI or sqlite3 DBAPI2 connection. Other DBAPI2 objects are not tested. Please consider using SQLAlchemy.\n",
      "  df = pd.read_sql_query(query, connection)\n"
     ]
    },
    {
     "name": "stdout",
     "output_type": "stream",
     "text": [
      "Query executed successfully. Retrieved 1 rows.\n",
      "Database connection closed.\n"
     ]
    },
    {
     "data": {
      "text/html": [
       "<div>\n",
       "<style scoped>\n",
       "    .dataframe tbody tr th:only-of-type {\n",
       "        vertical-align: middle;\n",
       "    }\n",
       "\n",
       "    .dataframe tbody tr th {\n",
       "        vertical-align: top;\n",
       "    }\n",
       "\n",
       "    .dataframe thead th {\n",
       "        text-align: right;\n",
       "    }\n",
       "</style>\n",
       "<table border=\"1\" class=\"dataframe\">\n",
       "  <thead>\n",
       "    <tr style=\"text-align: right;\">\n",
       "      <th></th>\n",
       "      <th>count</th>\n",
       "    </tr>\n",
       "  </thead>\n",
       "  <tbody>\n",
       "    <tr>\n",
       "      <th>0</th>\n",
       "      <td>33</td>\n",
       "    </tr>\n",
       "  </tbody>\n",
       "</table>\n",
       "</div>"
      ],
      "text/plain": [
       "   count\n",
       "0     33"
      ]
     },
     "execution_count": 18,
     "metadata": {},
     "output_type": "execute_result"
    }
   ],
   "source": [
    "result_df = execute_postgres_query(\"SELECT count(*) FROM structured_content;\",postgres_config)\n",
    "result_df"
   ]
  },
  {
   "cell_type": "markdown",
   "metadata": {},
   "source": [
    "## Custom Query Execution\n",
    "\n",
    "Use the cell below to execute your own custom queries. Simply modify the `custom_query` variable and run the cell."
   ]
  },
  {
   "cell_type": "code",
   "execution_count": null,
   "metadata": {},
   "outputs": [],
   "source": [
    "# Define your custom query here\n",
    "custom_query = \"\"\"\n",
    "SELECT \n",
    "    COUNT(*) as total_records,\n",
    "    COUNT(DISTINCT id) as unique_ids\n",
    "FROM structured_content;\n",
    "\"\"\"\n",
    "\n",
    "print(f\"Executing custom query: {custom_query.strip()}\")\n",
    "print(\"-\" * 50)\n",
    "\n",
    "try:\n",
    "    custom_result = execute_postgres_query(custom_query, postgres_config)\n",
    "    \n",
    "    print(\"\\nCustom Query Results:\")\n",
    "    display(custom_result)\n",
    "    \n",
    "except Exception as e:\n",
    "    print(f\"Error executing custom query: {e}\")"
   ]
  },
  {
   "cell_type": "markdown",
   "metadata": {},
   "source": [
    "## Data Analysis Examples\n",
    "\n",
    "Here are some example analyses you can perform with the data:"
   ]
  },
  {
   "cell_type": "code",
   "execution_count": null,
   "metadata": {},
   "outputs": [],
   "source": [
    "# Example: Get table schema information\n",
    "schema_query = \"\"\"\n",
    "SELECT \n",
    "    column_name,\n",
    "    data_type,\n",
    "    is_nullable,\n",
    "    column_default\n",
    "FROM information_schema.columns \n",
    "WHERE table_name = 'structured_content'\n",
    "ORDER BY ordinal_position;\n",
    "\"\"\"\n",
    "\n",
    "try:\n",
    "    schema_df = execute_postgres_query(schema_query, postgres_config)\n",
    "    print(\"\\nTable Schema:\")\n",
    "    display(schema_df)\n",
    "except Exception as e:\n",
    "    print(f\"Error getting schema: {e}\")"
   ]
  },
  {
   "cell_type": "code",
   "execution_count": null,
   "metadata": {},
   "outputs": [],
   "source": [
    "# Example: Basic data exploration\n",
    "exploration_query = \"\"\"\n",
    "SELECT \n",
    "    COUNT(*) as total_rows,\n",
    "    COUNT(DISTINCT id) as unique_ids,\n",
    "    MIN(created_at) as earliest_date,\n",
    "    MAX(created_at) as latest_date\n",
    "FROM structured_content;\n",
    "\"\"\"\n",
    "\n",
    "try:\n",
    "    exploration_df = execute_postgres_query(exploration_query, postgres_config)\n",
    "    print(\"\\nData Exploration:\")\n",
    "    display(exploration_df)\n",
    "except Exception as e:\n",
    "    print(f\"Error in data exploration: {e}\")"
   ]
  },
  {
   "cell_type": "markdown",
   "metadata": {},
   "source": [
    "## Alternative Installation Methods\n",
    "\n",
    "If the automatic installation above doesn't work, try these alternative methods:"
   ]
  },
  {
   "cell_type": "code",
   "execution_count": null,
   "metadata": {},
   "outputs": [],
   "source": [
    "# Alternative 1: Install from requirements.txt\n",
    "# Run this cell if you want to install all project dependencies\n",
    "import subprocess\n",
    "import sys\n",
    "\n",
    "try:\n",
    "    result = subprocess.run([sys.executable, \"-m\", \"pip\", \"install\", \"-r\", \"../requirements.txt\"], \n",
    "                          capture_output=True, text=True, check=True)\n",
    "    print(\"✅ All requirements installed successfully\")\n",
    "    print(result.stdout)\n",
    "except subprocess.CalledProcessError as e:\n",
    "    print(f\"❌ Error installing requirements: {e}\")\n",
    "    print(f\"Error output: {e.stderr}\")"
   ]
  },
  {
   "cell_type": "code",
   "execution_count": null,
   "metadata": {},
   "outputs": [],
   "source": [
    "# Alternative 2: Manual conda installation (if using conda environment)\n",
    "# Uncomment and run if you're using conda\n",
    "\n",
    "# import subprocess\n",
    "# import sys\n",
    "\n",
    "# try:\n",
    "#     result = subprocess.run([\"conda\", \"install\", \"-c\", \"conda-forge\", \"psycopg2\", \"-y\"], \n",
    "#                           capture_output=True, text=True, check=True)\n",
    "#     print(\"✅ psycopg2 installed via conda successfully\")\n",
    "#     print(result.stdout)\n",
    "# except subprocess.CalledProcessError as e:\n",
    "#     print(f\"❌ Error installing via conda: {e}\")\n",
    "#     print(f\"Error output: {e.stderr}\")"
   ]
  },
  {
   "cell_type": "markdown",
   "metadata": {},
   "source": [
    "## Quick Reference\n",
    "\n",
    "### Main Function\n",
    "```python\n",
    "# Execute any PostgreSQL query and get results as DataFrame\n",
    "df = execute_postgres_query(\"YOUR_SQL_QUERY_HERE\", postgres_config)\n",
    "```\n",
    "\n",
    "### Configuration\n",
    "- Configuration is loaded from `../config/config_boomer_load.yml`\n",
    "- PostgreSQL connection parameters are automatically parsed\n",
    "- Connection is automatically closed after each query\n",
    "\n",
    "### Error Handling\n",
    "- All database errors are caught and displayed\n",
    "- Connection is always properly closed\n",
    "- Detailed error messages help with troubleshooting\n",
    "\n",
    "### Installation Troubleshooting\n",
    "If you encounter issues with psycopg2 installation:\n",
    "\n",
    "1. **Try psycopg2-binary**: This is usually easier to install\n",
    "2. **Check your Python environment**: Make sure you're in the correct virtual environment\n",
    "3. **System dependencies**: On some systems, you may need to install PostgreSQL development headers\n",
    "4. **Use conda**: If using Anaconda/Miniconda, try installing via conda instead of pip\n",
    "\n",
    "### Command Line Installation\n",
    "If the notebook installation fails, try these commands in your terminal:\n",
    "\n",
    "```bash\n",
    "# Using pip\n",
    "pip install psycopg2-binary==2.9.7\n",
    "\n",
    "# Using conda\n",
    "conda install -c conda-forge psycopg2\n",
    "\n",
    "# Install all project requirements\n",
    "pip install -r requirements.txt\n",
    "```"
   ]
  }
 ],
 "metadata": {
  "kernelspec": {
   "display_name": "Python 3",
   "language": "python",
   "name": "python3"
  },
  "language_info": {
   "codemirror_mode": {
    "name": "ipython",
    "version": 3
   },
   "file_extension": ".py",
   "mimetype": "text/x-python",
   "name": "python",
   "nbconvert_exporter": "python",
   "pygments_lexer": "ipython3",
   "version": "3.8.0"
  }
 },
 "nbformat": 4,
 "nbformat_minor": 4
}
