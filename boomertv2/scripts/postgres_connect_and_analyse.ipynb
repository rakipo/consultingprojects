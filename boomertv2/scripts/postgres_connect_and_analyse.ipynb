{
 "cells": [
  {
   "cell_type": "markdown",
   "metadata": {},
   "source": [
    "# PostgreSQL Connection and Analysis Notebook\n",
    "\n",
    "This notebook provides functionality to connect to PostgreSQL using the configuration from `config_boomer_load.yml` and run queries with results returned as pandas DataFrames."
   ]
  },
  {
   "cell_type": "markdown",
   "metadata": {},
   "source": [
    "## Environment Setup\n",
    "\n",
    "First, let's ensure all required packages are installed in the current kernel environment."
   ]
  },
  {
   "cell_type": "code",
   "execution_count": 10,
   "metadata": {},
   "outputs": [
    {
     "name": "stdout",
     "output_type": "stream",
     "text": [
      "Installing required packages...\n",
      "Requirement already satisfied: psycopg2-binary==2.9.7 in /opt/anaconda3/envs/postgres-neo4j-pipeline/lib/python3.11/site-packages (2.9.7)\n",
      "✅ psycopg2-binary==2.9.7 installed successfully\n",
      "Requirement already satisfied: pandas in /opt/anaconda3/envs/postgres-neo4j-pipeline/lib/python3.11/site-packages (2.3.1)\n",
      "Requirement already satisfied: numpy>=1.23.2 in /opt/anaconda3/envs/postgres-neo4j-pipeline/lib/python3.11/site-packages (from pandas) (1.24.3)\n",
      "Requirement already satisfied: python-dateutil>=2.8.2 in /opt/anaconda3/envs/postgres-neo4j-pipeline/lib/python3.11/site-packages (from pandas) (2.9.0.post0)\n",
      "Requirement already satisfied: pytz>=2020.1 in /opt/anaconda3/envs/postgres-neo4j-pipeline/lib/python3.11/site-packages (from pandas) (2025.2)\n",
      "Requirement already satisfied: tzdata>=2022.7 in /opt/anaconda3/envs/postgres-neo4j-pipeline/lib/python3.11/site-packages (from pandas) (2025.2)\n",
      "Requirement already satisfied: six>=1.5 in /opt/anaconda3/envs/postgres-neo4j-pipeline/lib/python3.11/site-packages (from python-dateutil>=2.8.2->pandas) (1.17.0)\n",
      "✅ pandas installed successfully\n",
      "Requirement already satisfied: PyYAML==6.0.1 in /opt/anaconda3/envs/postgres-neo4j-pipeline/lib/python3.11/site-packages (6.0.1)\n",
      "✅ PyYAML==6.0.1 installed successfully\n",
      "\n",
      "==================================================\n",
      "Package installation completed!\n",
      "==================================================\n"
     ]
    }
   ],
   "source": [
    "# Install required packages if not already installed\n",
    "import subprocess\n",
    "import sys\n",
    "\n",
    "def install_package(package):\n",
    "    \"\"\"Install a package using pip in the current kernel environment.\"\"\"\n",
    "    try:\n",
    "        subprocess.check_call([sys.executable, \"-m\", \"pip\", \"install\", package])\n",
    "        print(f\"✅ {package} installed successfully\")\n",
    "    except subprocess.CalledProcessError as e:\n",
    "        print(f\"❌ Error installing {package}: {e}\")\n",
    "\n",
    "# Required packages\n",
    "required_packages = [\n",
    "    \"psycopg2-binary==2.9.7\",\n",
    "    \"pandas\",\n",
    "    \"PyYAML==6.0.1\"\n",
    "]\n",
    "\n",
    "print(\"Installing required packages...\")\n",
    "for package in required_packages:\n",
    "    install_package(package)\n",
    "\n",
    "print(\"\\n\" + \"=\"*50)\n",
    "print(\"Package installation completed!\")\n",
    "print(\"=\"*50)"
   ]
  },
  {
   "cell_type": "code",
   "execution_count": 11,
   "metadata": {},
   "outputs": [
    {
     "name": "stdout",
     "output_type": "stream",
     "text": [
      "✅ pandas imported successfully\n",
      "✅ psycopg2 imported successfully (version: 2.9.7 (dt dec pq3 ext lo64))\n",
      "✅ yaml imported successfully\n",
      "\n",
      "==================================================\n",
      "All libraries imported successfully!\n",
      "==================================================\n"
     ]
    }
   ],
   "source": [
    "# Import required libraries with error handling\n",
    "try:\n",
    "    import pandas as pd\n",
    "    print(\"✅ pandas imported successfully\")\n",
    "except ImportError as e:\n",
    "    print(f\"❌ Error importing pandas: {e}\")\n",
    "\n",
    "try:\n",
    "    import psycopg2\n",
    "    print(f\"✅ psycopg2 imported successfully (version: {psycopg2.__version__})\")\n",
    "except ImportError as e:\n",
    "    print(f\"❌ Error importing psycopg2: {e}\")\n",
    "    print(\"Please run the installation cell above first!\")\n",
    "\n",
    "try:\n",
    "    import yaml\n",
    "    print(\"✅ yaml imported successfully\")\n",
    "except ImportError as e:\n",
    "    print(f\"❌ Error importing yaml: {e}\")\n",
    "\n",
    "import os\n",
    "import sys\n",
    "from typing import Optional, Dict, Any\n",
    "\n",
    "# Add src directory to path for imports\n",
    "sys.path.append(os.path.join(os.path.dirname(os.getcwd()), 'src'))\n",
    "\n",
    "print(\"\\n\" + \"=\"*50)\n",
    "print(\"All libraries imported successfully!\")\n",
    "print(\"=\"*50)"
   ]
  },
  {
   "cell_type": "code",
   "execution_count": 13,
   "metadata": {},
   "outputs": [
    {
     "name": "stdout",
     "output_type": "stream",
     "text": [
      "Configuration loaded successfully from ../config/config_boomer_load_local.yml\n",
      "Available configuration sections: ['database', 'queries', 'neo4j_load_config']\n"
     ]
    }
   ],
   "source": [
    "def load_config(config_path: str = '../config/config_boomer_load_local.yml') -> Dict[str, Any]:\n",
    "    \"\"\"\n",
    "    Load configuration from YAML file.\n",
    "    \n",
    "    Args:\n",
    "        config_path: Path to the configuration file\n",
    "        \n",
    "    Returns:\n",
    "        Dictionary containing configuration data\n",
    "    \"\"\"\n",
    "    try:\n",
    "        with open(config_path, 'r') as file:\n",
    "            config = yaml.safe_load(file)\n",
    "        print(f\"Configuration loaded successfully from {config_path}\")\n",
    "        return config\n",
    "    except FileNotFoundError:\n",
    "        print(f\"Configuration file not found: {config_path}\")\n",
    "        raise\n",
    "    except yaml.YAMLError as e:\n",
    "        print(f\"Error parsing YAML file: {e}\")\n",
    "        raise\n",
    "\n",
    "# Load configuration\n",
    "config = load_config()\n",
    "print(\"Available configuration sections:\", list(config.keys()))"
   ]
  },
  {
   "cell_type": "code",
   "execution_count": 14,
   "metadata": {},
   "outputs": [
    {
     "name": "stdout",
     "output_type": "stream",
     "text": [
      "PostgreSQL connection parameters:\n",
      "  host: 4.150.184.135\n",
      "  port: 5432\n",
      "  database: SERP_TREND_DEV_DB\n",
      "  user: serptrend_user\n",
      "  password: ***********************\n"
     ]
    }
   ],
   "source": [
    "def parse_postgres_config(config_string: str) -> Dict[str, str]:\n",
    "    \"\"\"\n",
    "    Parse PostgreSQL configuration string into connection parameters.\n",
    "    \n",
    "    Args:\n",
    "        config_string: Multi-line string containing PostgreSQL configuration\n",
    "        \n",
    "    Returns:\n",
    "        Dictionary with connection parameters\n",
    "    \"\"\"\n",
    "    db_config = {}\n",
    "    \n",
    "    for line in config_string.strip().split('\\n'):\n",
    "        if ':' in line:\n",
    "            key, value = line.split(':', 1)\n",
    "            db_config[key.strip()] = value.strip()\n",
    "    \n",
    "    return db_config\n",
    "\n",
    "# Parse PostgreSQL configuration\n",
    "postgres_config_str = config['database']['postgres']\n",
    "postgres_config = parse_postgres_config(postgres_config_str)\n",
    "print(\"PostgreSQL connection parameters:\")\n",
    "for key, value in postgres_config.items():\n",
    "    if key == 'password':\n",
    "        print(f\"  {key}: {'*' * len(value)}\")\n",
    "    else:\n",
    "        print(f\"  {key}: {value}\")"
   ]
  },
  {
   "cell_type": "code",
   "execution_count": null,
   "metadata": {},
   "outputs": [],
   "source": [
    "# Improved PostgreSQL query function that handles both SELECT and UPDATE/INSERT/DELETE queries\n",
    "def execute_postgres_query_improved(query: str, config: Dict[str, str]) -> pd.DataFrame:\n",
    "    \"\"\"\n",
    "    Execute a PostgreSQL query and return results as a pandas DataFrame.\n",
    "    \n",
    "    Args:\n",
    "        query: SQL query to execute\n",
    "        config: PostgreSQL connection configuration\n",
    "        \n",
    "    Returns:\n",
    "        pandas DataFrame containing query results (empty DataFrame for UPDATE/INSERT/DELETE)\n",
    "    \"\"\"\n",
    "    connection = None\n",
    "    try:\n",
    "        # Establish connection\n",
    "        connection = psycopg2.connect(\n",
    "            host=config['host'],\n",
    "            port=config['port'],\n",
    "            database=config['database'],\n",
    "            user=config['user'],\n",
    "            password=config['password']\n",
    "        )\n",
    "        \n",
    "        print(f\"Connected to PostgreSQL database: {config['database']}\")\n",
    "        \n",
    "        # Check if query is a SELECT statement\n",
    "        query_upper = query.strip().upper()\n",
    "        if query_upper.startswith('SELECT'):\n",
    "            # Execute SELECT query and return as DataFrame\n",
    "            df = pd.read_sql_query(query, connection)\n",
    "            print(f\"Query executed successfully. Retrieved {len(df)} rows.\")\n",
    "            return df\n",
    "        else:\n",
    "            # Execute UPDATE/INSERT/DELETE query\n",
    "            cursor = connection.cursor()\n",
    "            cursor.execute(query)\n",
    "            rows_affected = cursor.rowcount\n",
    "            connection.commit()\n",
    "            cursor.close()\n",
    "            print(f\"Query executed successfully. {rows_affected} rows affected.\")\n",
    "            return pd.DataFrame()  # Return empty DataFrame for non-SELECT queries\n",
    "        \n",
    "    except psycopg2.Error as e:\n",
    "        print(f\"PostgreSQL error: {e}\")\n",
    "        raise\n",
    "    except Exception as e:\n",
    "        print(f\"Unexpected error: {e}\")\n",
    "        raise\n",
    "    finally:\n",
    "        if connection:\n",
    "            connection.close()\n",
    "            print(\"Database connection closed.\")"
   ]
  },
  {
   "cell_type": "code",
   "execution_count": null,
   "metadata": {},
   "outputs": [
    {
     "name": "stdout",
     "output_type": "stream",
     "text": [
      "Executing sample query: SELECT * FROM structured_content LIMIT 2;\n",
      "--------------------------------------------------\n",
      "Connected to PostgreSQL database: SERP_TREND_DEV_DB\n"
     ]
    },
    {
     "name": "stderr",
     "output_type": "stream",
     "text": [
      "/var/folders/ct/w3w0zg9d5w10mhf7h_d_xwym0000gn/T/ipykernel_32937/3822124451.py:26: UserWarning: pandas only supports SQLAlchemy connectable (engine/connection) or database string URI or sqlite3 DBAPI2 connection. Other DBAPI2 objects are not tested. Please consider using SQLAlchemy.\n",
      "  df = pd.read_sql_query(query, connection)\n"
     ]
    },
    {
     "name": "stdout",
     "output_type": "stream",
     "text": [
      "Query executed successfully. Retrieved 2 rows.\n",
      "Database connection closed.\n",
      "\n",
      "Query Results:\n",
      "Shape: (2, 18)\n",
      "Columns: ['id', 'url', 'raw_html_id', 'domain', 'site_name', 'title', 'author', 'publish_date', 'content', 'summary', 'tags', 'language', 'word_count', 'meta_description', 'extracted_at', 'is_latest', 'run_id', 'status_neo4j']\n",
      "\n",
      "First few rows:\n"
     ]
    },
    {
     "data": {
      "text/html": [
       "<div>\n",
       "<style scoped>\n",
       "    .dataframe tbody tr th:only-of-type {\n",
       "        vertical-align: middle;\n",
       "    }\n",
       "\n",
       "    .dataframe tbody tr th {\n",
       "        vertical-align: top;\n",
       "    }\n",
       "\n",
       "    .dataframe thead th {\n",
       "        text-align: right;\n",
       "    }\n",
       "</style>\n",
       "<table border=\"1\" class=\"dataframe\">\n",
       "  <thead>\n",
       "    <tr style=\"text-align: right;\">\n",
       "      <th></th>\n",
       "      <th>id</th>\n",
       "      <th>url</th>\n",
       "      <th>raw_html_id</th>\n",
       "      <th>domain</th>\n",
       "      <th>site_name</th>\n",
       "      <th>title</th>\n",
       "      <th>author</th>\n",
       "      <th>publish_date</th>\n",
       "      <th>content</th>\n",
       "      <th>summary</th>\n",
       "      <th>tags</th>\n",
       "      <th>language</th>\n",
       "      <th>word_count</th>\n",
       "      <th>meta_description</th>\n",
       "      <th>extracted_at</th>\n",
       "      <th>is_latest</th>\n",
       "      <th>run_id</th>\n",
       "      <th>status_neo4j</th>\n",
       "    </tr>\n",
       "  </thead>\n",
       "  <tbody>\n",
       "    <tr>\n",
       "      <th>0</th>\n",
       "      <td>156</td>\n",
       "      <td>https://global.morningstar.com/en-ca/investmen...</td>\n",
       "      <td>157</td>\n",
       "      <td>morningstar.com</td>\n",
       "      <td>None</td>\n",
       "      <td>BMO Retirement Income Portfolio F Fund Summary...</td>\n",
       "      <td>None</td>\n",
       "      <td>None</td>\n",
       "      <td>BMO Retirement Income Portfolio F Fund Summary...</td>\n",
       "      <td>Get a detailed summary of BMO Retirement Incom...</td>\n",
       "      <td>[Retirement income]</td>\n",
       "      <td>en</td>\n",
       "      <td>219</td>\n",
       "      <td>Get a detailed summary of BMO Retirement Incom...</td>\n",
       "      <td>2025-08-11 11:45:22.996649+00:00</td>\n",
       "      <td>True</td>\n",
       "      <td>fd77e405-fdb5-48b1-acb6-6e178f468e44</td>\n",
       "      <td>True</td>\n",
       "    </tr>\n",
       "    <tr>\n",
       "      <th>1</th>\n",
       "      <td>171</td>\n",
       "      <td>https://act.alz.org/site/TR?team_id=977496&amp;pg=...</td>\n",
       "      <td>172</td>\n",
       "      <td>alz.org</td>\n",
       "      <td>None</td>\n",
       "      <td>Delicate Hands Home Health's Walk to End Alzhe...</td>\n",
       "      <td>None</td>\n",
       "      <td>None</td>\n",
       "      <td>2025 Walk to End Alzheimer's   Spartanburg, SC...</td>\n",
       "      <td>Welcome to our team page for the Alzheimer's A...</td>\n",
       "      <td>[Alzheimer's]</td>\n",
       "      <td>en</td>\n",
       "      <td>657</td>\n",
       "      <td>Support Delicate Hands Home Health in the figh...</td>\n",
       "      <td>2025-08-11 11:59:14.246271+00:00</td>\n",
       "      <td>True</td>\n",
       "      <td>376e84db-fa4c-4239-9588-be36d2f2fd4d</td>\n",
       "      <td>True</td>\n",
       "    </tr>\n",
       "  </tbody>\n",
       "</table>\n",
       "</div>"
      ],
      "text/plain": [
       "    id                                                url  raw_html_id  \\\n",
       "0  156  https://global.morningstar.com/en-ca/investmen...          157   \n",
       "1  171  https://act.alz.org/site/TR?team_id=977496&pg=...          172   \n",
       "\n",
       "            domain site_name  \\\n",
       "0  morningstar.com      None   \n",
       "1          alz.org      None   \n",
       "\n",
       "                                               title author publish_date  \\\n",
       "0  BMO Retirement Income Portfolio F Fund Summary...   None         None   \n",
       "1  Delicate Hands Home Health's Walk to End Alzhe...   None         None   \n",
       "\n",
       "                                             content  \\\n",
       "0  BMO Retirement Income Portfolio F Fund Summary...   \n",
       "1  2025 Walk to End Alzheimer's   Spartanburg, SC...   \n",
       "\n",
       "                                             summary                 tags  \\\n",
       "0  Get a detailed summary of BMO Retirement Incom...  [Retirement income]   \n",
       "1  Welcome to our team page for the Alzheimer's A...        [Alzheimer's]   \n",
       "\n",
       "  language  word_count                                   meta_description  \\\n",
       "0       en         219  Get a detailed summary of BMO Retirement Incom...   \n",
       "1       en         657  Support Delicate Hands Home Health in the figh...   \n",
       "\n",
       "                      extracted_at  is_latest  \\\n",
       "0 2025-08-11 11:45:22.996649+00:00       True   \n",
       "1 2025-08-11 11:59:14.246271+00:00       True   \n",
       "\n",
       "                                 run_id  status_neo4j  \n",
       "0  fd77e405-fdb5-48b1-acb6-6e178f468e44          True  \n",
       "1  376e84db-fa4c-4239-9588-be36d2f2fd4d          True  "
      ]
     },
     "metadata": {},
     "output_type": "display_data"
    }
   ],
   "source": [
    "# Test the connection and function with the sample query\n",
    "sample_query = \"SELECT * FROM structured_content LIMIT 2;\"\n",
    "# sample_query = \"SELECT distinct site_name FROM structured_content;\"\n",
    "\n",
    "print(f\"Executing sample query: {sample_query}\")\n",
    "print(\"-\" * 50)\n",
    "\n",
    "try:\n",
    "    result_df = execute_postgres_query_improved(sample_query, postgres_config)\n",
    "    \n",
    "    print(\"\\nQuery Results:\")\n",
    "    print(f\"Shape: {result_df.shape}\")\n",
    "    print(f\"Columns: {list(result_df.columns)}\")\n",
    "    print(\"\\nFirst few rows:\")\n",
    "    display(result_df.head())\n",
    "    \n",
    "except Exception as e:\n",
    "    print(f\"Error executing query: {e}\")"
   ]
  },
  {
   "cell_type": "code",
   "execution_count": 17,
   "metadata": {},
   "outputs": [
    {
     "data": {
      "text/plain": [
       "Index(['id', 'url', 'raw_html_id', 'domain', 'site_name', 'title', 'author',\n",
       "       'publish_date', 'content', 'summary', 'tags', 'language', 'word_count',\n",
       "       'meta_description', 'extracted_at', 'is_latest', 'run_id',\n",
       "       'status_neo4j'],\n",
       "      dtype='object')"
      ]
     },
     "execution_count": 17,
     "metadata": {},
     "output_type": "execute_result"
    }
   ],
   "source": [
    "result_df.columns"
   ]
  },
  {
   "cell_type": "code",
   "execution_count": 47,
   "metadata": {},
   "outputs": [
    {
     "name": "stdout",
     "output_type": "stream",
     "text": [
      "Connected to PostgreSQL database: SERP_TREND_DEV_DB\n"
     ]
    },
    {
     "name": "stderr",
     "output_type": "stream",
     "text": [
      "/var/folders/ct/w3w0zg9d5w10mhf7h_d_xwym0000gn/T/ipykernel_32937/1088369759.py:30: UserWarning: pandas only supports SQLAlchemy connectable (engine/connection) or database string URI or sqlite3 DBAPI2 connection. Other DBAPI2 objects are not tested. Please consider using SQLAlchemy.\n",
      "  df = pd.read_sql_query(query, connection)\n"
     ]
    },
    {
     "name": "stdout",
     "output_type": "stream",
     "text": [
      "Query executed successfully. Retrieved 1 rows.\n",
      "Database connection closed.\n"
     ]
    },
    {
     "data": {
      "text/html": [
       "<div>\n",
       "<style scoped>\n",
       "    .dataframe tbody tr th:only-of-type {\n",
       "        vertical-align: middle;\n",
       "    }\n",
       "\n",
       "    .dataframe tbody tr th {\n",
       "        vertical-align: top;\n",
       "    }\n",
       "\n",
       "    .dataframe thead th {\n",
       "        text-align: right;\n",
       "    }\n",
       "</style>\n",
       "<table border=\"1\" class=\"dataframe\">\n",
       "  <thead>\n",
       "    <tr style=\"text-align: right;\">\n",
       "      <th></th>\n",
       "      <th>count</th>\n",
       "    </tr>\n",
       "  </thead>\n",
       "  <tbody>\n",
       "    <tr>\n",
       "      <th>0</th>\n",
       "      <td>129</td>\n",
       "    </tr>\n",
       "  </tbody>\n",
       "</table>\n",
       "</div>"
      ],
      "text/plain": [
       "   count\n",
       "0    129"
      ]
     },
     "execution_count": 47,
     "metadata": {},
     "output_type": "execute_result"
    }
   ],
   "source": [
    "result_df = execute_postgres_query_improved(\"SELECT count(*) FROM structured_content ;\",postgres_config)\n",
    "result_df"
   ]
  },
  {
   "cell_type": "code",
   "execution_count": 50,
   "metadata": {},
   "outputs": [
    {
     "name": "stdout",
     "output_type": "stream",
     "text": [
      "Connected to PostgreSQL database: SERP_TREND_DEV_DB\n"
     ]
    },
    {
     "name": "stderr",
     "output_type": "stream",
     "text": [
      "/var/folders/ct/w3w0zg9d5w10mhf7h_d_xwym0000gn/T/ipykernel_32937/1088369759.py:30: UserWarning: pandas only supports SQLAlchemy connectable (engine/connection) or database string URI or sqlite3 DBAPI2 connection. Other DBAPI2 objects are not tested. Please consider using SQLAlchemy.\n",
      "  df = pd.read_sql_query(query, connection)\n"
     ]
    },
    {
     "name": "stdout",
     "output_type": "stream",
     "text": [
      "Query executed successfully. Retrieved 1 rows.\n",
      "Database connection closed.\n"
     ]
    },
    {
     "data": {
      "text/html": [
       "<div>\n",
       "<style scoped>\n",
       "    .dataframe tbody tr th:only-of-type {\n",
       "        vertical-align: middle;\n",
       "    }\n",
       "\n",
       "    .dataframe tbody tr th {\n",
       "        vertical-align: top;\n",
       "    }\n",
       "\n",
       "    .dataframe thead th {\n",
       "        text-align: right;\n",
       "    }\n",
       "</style>\n",
       "<table border=\"1\" class=\"dataframe\">\n",
       "  <thead>\n",
       "    <tr style=\"text-align: right;\">\n",
       "      <th></th>\n",
       "      <th>count</th>\n",
       "    </tr>\n",
       "  </thead>\n",
       "  <tbody>\n",
       "    <tr>\n",
       "      <th>0</th>\n",
       "      <td>19</td>\n",
       "    </tr>\n",
       "  </tbody>\n",
       "</table>\n",
       "</div>"
      ],
      "text/plain": [
       "   count\n",
       "0     19"
      ]
     },
     "execution_count": 50,
     "metadata": {},
     "output_type": "execute_result"
    }
   ],
   "source": [
    "result_df = execute_postgres_query_improved(\"SELECT count(*) FROM structured_content where status_neo4j=false ;\",postgres_config)\n",
    "result_df"
   ]
  },
  {
   "cell_type": "code",
   "execution_count": null,
   "metadata": {},
   "outputs": [
    {
     "name": "stdout",
     "output_type": "stream",
     "text": [
      "Executing reset query: UPDATE structured_content SET status_neo4j = false;\n",
      "--------------------------------------------------\n",
      "Connected to PostgreSQL database: SERP_TREND_DEV_DB\n",
      "Query executed successfully. 112 rows affected.\n",
      "Database connection closed.\n",
      "\n",
      "Successfully reset status_neo4j to false for all articles\n",
      "Connected to PostgreSQL database: SERP_TREND_DEV_DB\n"
     ]
    },
    {
     "name": "stderr",
     "output_type": "stream",
     "text": [
      "/var/folders/ct/w3w0zg9d5w10mhf7h_d_xwym0000gn/T/ipykernel_32937/1088369759.py:30: UserWarning: pandas only supports SQLAlchemy connectable (engine/connection) or database string URI or sqlite3 DBAPI2 connection. Other DBAPI2 objects are not tested. Please consider using SQLAlchemy.\n",
      "  df = pd.read_sql_query(query, connection)\n"
     ]
    },
    {
     "name": "stdout",
     "output_type": "stream",
     "text": [
      "Query executed successfully. Retrieved 1 rows.\n",
      "Database connection closed.\n",
      "\n",
      "Number of articles with status_neo4j = false: 112\n"
     ]
    }
   ],
   "source": [
    "# # Query to reset status_neo4j to false for all articles\n",
    "# reset_query = \"UPDATE structured_content SET status_neo4j = false;\"\n",
    "# print(f\"Executing reset query: {reset_query}\")\n",
    "# print(\"-\" * 50)\n",
    "\n",
    "# try:\n",
    "#     result_df = execute_postgres_query_improved(reset_query, postgres_config)\n",
    "#     print(\"\\nSuccessfully reset status_neo4j to false for all articles\")\n",
    "    \n",
    "#     # Verify the update by checking count of articles with status_neo4j = false\n",
    "#     verify_query = \"SELECT count(*) FROM structured_content WHERE status_neo4j = false;\"\n",
    "#     verify_df = execute_postgres_query_improved(verify_query, postgres_config)\n",
    "#     print(f\"\\nNumber of articles with status_neo4j = false: {verify_df.iloc[0,0]}\")\n",
    "    \n",
    "# except Exception as e:\n",
    "#     print(f\"Error executing reset query: {e}\")\n",
    "\n"
   ]
  },
  {
   "cell_type": "code",
   "execution_count": 37,
   "metadata": {},
   "outputs": [
    {
     "name": "stdout",
     "output_type": "stream",
     "text": [
      "Executing reset query: UPDATE structured_content SET status_neo4j = false;\n",
      "--------------------------------------------------\n",
      "Connected to PostgreSQL database: SERP_TREND_DEV_DB\n",
      "Query executed successfully. 112 rows affected.\n",
      "Database connection closed.\n",
      "\n",
      "Successfully reset status_neo4j to false for all articles\n",
      "Connected to PostgreSQL database: SERP_TREND_DEV_DB\n"
     ]
    },
    {
     "name": "stderr",
     "output_type": "stream",
     "text": [
      "/var/folders/ct/w3w0zg9d5w10mhf7h_d_xwym0000gn/T/ipykernel_32937/1088369759.py:30: UserWarning: pandas only supports SQLAlchemy connectable (engine/connection) or database string URI or sqlite3 DBAPI2 connection. Other DBAPI2 objects are not tested. Please consider using SQLAlchemy.\n",
      "  df = pd.read_sql_query(query, connection)\n"
     ]
    },
    {
     "name": "stdout",
     "output_type": "stream",
     "text": [
      "Query executed successfully. Retrieved 1 rows.\n",
      "Database connection closed.\n",
      "\n",
      "Number of articles with status_neo4j = false: 112\n"
     ]
    }
   ],
   "source": [
    "# Query to reset status_neo4j to false for all articles\n",
    "reset_query = \"UPDATE structured_content SET status_neo4j = false;\"\n",
    "print(f\"Executing reset query: {reset_query}\")\n",
    "print(\"-\" * 50)\n",
    "\n",
    "try:\n",
    "    result_df = execute_postgres_query_improved(reset_query, postgres_config)\n",
    "    print(\"\\nSuccessfully reset status_neo4j to false for all articles\")\n",
    "    \n",
    "    # Verify the update by checking count of articles with status_neo4j = false\n",
    "    verify_query = \"SELECT count(*) FROM structured_content WHERE status_neo4j = false;\"\n",
    "    verify_df = execute_postgres_query_improved(verify_query, postgres_config)\n",
    "    print(f\"\\nNumber of articles with status_neo4j = false: {verify_df.iloc[0,0]}\")\n",
    "    \n",
    "except Exception as e:\n",
    "    print(f\"Error executing reset query: {e}\")\n",
    "\n"
   ]
  },
  {
   "cell_type": "code",
   "execution_count": null,
   "metadata": {},
   "outputs": [],
   "source": [
    "# Improved PostgreSQL query function that handles both SELECT and UPDATE/INSERT/DELETE queries\n",
    "def execute_postgres_query_improved(query: str, config: Dict[str, str]) -> pd.DataFrame:\n",
    "    \"\"\"\n",
    "    Execute a PostgreSQL query and return results as a pandas DataFrame.\n",
    "    \n",
    "    Args:\n",
    "        query: SQL query to execute\n",
    "        config: PostgreSQL connection configuration\n",
    "        \n",
    "    Returns:\n",
    "        pandas DataFrame containing query results (empty DataFrame for UPDATE/INSERT/DELETE)\n",
    "    \"\"\"\n",
    "    connection = None\n",
    "    try:\n",
    "        # Establish connection\n",
    "        connection = psycopg2.connect(\n",
    "            host=config['host'],\n",
    "            port=config['port'],\n",
    "            database=config['database'],\n",
    "            user=config['user'],\n",
    "            password=config['password']\n",
    "        )\n",
    "        \n",
    "        print(f\"Connected to PostgreSQL database: {config['database']}\")\n",
    "        \n",
    "        # Check if query is a SELECT statement\n",
    "        query_upper = query.strip().upper()\n",
    "        if query_upper.startswith('SELECT'):\n",
    "            # Execute SELECT query and return as DataFrame\n",
    "            df = pd.read_sql_query(query, connection)\n",
    "            print(f\"Query executed successfully. Retrieved {len(df)} rows.\")\n",
    "            return df\n",
    "        else:\n",
    "            # Execute UPDATE/INSERT/DELETE query\n",
    "            cursor = connection.cursor()\n",
    "            cursor.execute(query)\n",
    "            rows_affected = cursor.rowcount\n",
    "            connection.commit()\n",
    "            cursor.close()\n",
    "            print(f\"Query executed successfully. {rows_affected} rows affected.\")\n",
    "            return pd.DataFrame()  # Return empty DataFrame for non-SELECT queries\n",
    "        \n",
    "    except psycopg2.Error as e:\n",
    "        print(f\"PostgreSQL error: {e}\")\n",
    "        raise\n",
    "    except Exception as e:\n",
    "        print(f\"Unexpected error: {e}\")\n",
    "        raise\n",
    "    finally:\n",
    "        if connection:\n",
    "            connection.close()\n",
    "            print(\"Database connection closed.\")"
   ]
  },
  {
   "cell_type": "code",
   "execution_count": null,
   "metadata": {},
   "outputs": [],
   "source": [
    "# Improved PostgreSQL query function that handles both SELECT and UPDATE/INSERT/DELETE queries\n",
    "def execute_postgres_query_improved(query: str, config: Dict[str, str]) -> pd.DataFrame:\n",
    "    \"\"\"\n",
    "    Execute a PostgreSQL query and return results as a pandas DataFrame.\n",
    "    \n",
    "    Args:\n",
    "        query: SQL query to execute\n",
    "        config: PostgreSQL connection configuration\n",
    "        \n",
    "    Returns:\n",
    "        pandas DataFrame containing query results (empty DataFrame for UPDATE/INSERT/DELETE)\n",
    "    \"\"\"\n",
    "    connection = None\n",
    "    try:\n",
    "        # Establish connection\n",
    "        connection = psycopg2.connect(\n",
    "            host=config['host'],\n",
    "            port=config['port'],\n",
    "            database=config['database'],\n",
    "            user=config['user'],\n",
    "            password=config['password']\n",
    "        )\n",
    "        \n",
    "        print(f\"Connected to PostgreSQL database: {config['database']}\")\n",
    "        \n",
    "        # Check if query is a SELECT statement\n",
    "        query_upper = query.strip().upper()\n",
    "        if query_upper.startswith('SELECT'):\n",
    "            # Execute SELECT query and return as DataFrame\n",
    "            df = pd.read_sql_query(query, connection)\n",
    "            print(f\"Query executed successfully. Retrieved {len(df)} rows.\")\n",
    "            return df\n",
    "        else:\n",
    "            # Execute UPDATE/INSERT/DELETE query\n",
    "            cursor = connection.cursor()\n",
    "            cursor.execute(query)\n",
    "            rows_affected = cursor.rowcount\n",
    "            connection.commit()\n",
    "            cursor.close()\n",
    "            print(f\"Query executed successfully. {rows_affected} rows affected.\")\n",
    "            return pd.DataFrame()  # Return empty DataFrame for non-SELECT queries\n",
    "        \n",
    "    except psycopg2.Error as e:\n",
    "        print(f\"PostgreSQL error: {e}\")\n",
    "        raise\n",
    "    except Exception as e:\n",
    "        print(f\"Unexpected error: {e}\")\n",
    "        raise\n",
    "    finally:\n",
    "        if connection:\n",
    "            connection.close()\n",
    "            print(\"Database connection closed.\")"
   ]
  },
  {
   "cell_type": "code",
   "execution_count": null,
   "metadata": {},
   "outputs": [],
   "source": [
    "# Improved PostgreSQL query function that handles both SELECT and UPDATE/INSERT/DELETE queries\n",
    "def execute_postgres_query_improved(query: str, config: Dict[str, str]) -> pd.DataFrame:\n",
    "    \"\"\"\n",
    "    Execute a PostgreSQL query and return results as a pandas DataFrame.\n",
    "    \n",
    "    Args:\n",
    "        query: SQL query to execute\n",
    "        config: PostgreSQL connection configuration\n",
    "        \n",
    "    Returns:\n",
    "        pandas DataFrame containing query results (empty DataFrame for UPDATE/INSERT/DELETE)\n",
    "    \"\"\"\n",
    "    connection = None\n",
    "    try:\n",
    "        # Establish connection\n",
    "        connection = psycopg2.connect(\n",
    "            host=config['host'],\n",
    "            port=config['port'],\n",
    "            database=config['database'],\n",
    "            user=config['user'],\n",
    "            password=config['password']\n",
    "        )\n",
    "        \n",
    "        print(f\"Connected to PostgreSQL database: {config['database']}\")\n",
    "        \n",
    "        # Check if query is a SELECT statement\n",
    "        query_upper = query.strip().upper()\n",
    "        if query_upper.startswith('SELECT'):\n",
    "            # Execute SELECT query and return as DataFrame\n",
    "            df = pd.read_sql_query(query, connection)\n",
    "            print(f\"Query executed successfully. Retrieved {len(df)} rows.\")\n",
    "            return df\n",
    "        else:\n",
    "            # Execute UPDATE/INSERT/DELETE query\n",
    "            cursor = connection.cursor()\n",
    "            cursor.execute(query)\n",
    "            rows_affected = cursor.rowcount\n",
    "            connection.commit()\n",
    "            cursor.close()\n",
    "            print(f\"Query executed successfully. {rows_affected} rows affected.\")\n",
    "            return pd.DataFrame()  # Return empty DataFrame for non-SELECT queries\n",
    "        \n",
    "    except psycopg2.Error as e:\n",
    "        print(f\"PostgreSQL error: {e}\")\n",
    "        raise\n",
    "    except Exception as e:\n",
    "        print(f\"Unexpected error: {e}\")\n",
    "        raise\n",
    "    finally:\n",
    "        if connection:\n",
    "            connection.close()\n",
    "            print(\"Database connection closed.\")"
   ]
  },
  {
   "cell_type": "code",
   "execution_count": null,
   "metadata": {},
   "outputs": [],
   "source": [
    "#code to reset status_neo4j to false for all articles"
   ]
  },
  {
   "cell_type": "code",
   "execution_count": null,
   "metadata": {},
   "outputs": [],
   "source": []
  },
  {
   "cell_type": "code",
   "execution_count": null,
   "metadata": {},
   "outputs": [],
   "source": []
  },
  {
   "cell_type": "code",
   "execution_count": null,
   "metadata": {},
   "outputs": [],
   "source": []
  },
  {
   "cell_type": "code",
   "execution_count": null,
   "metadata": {},
   "outputs": [],
   "source": []
  },
  {
   "cell_type": "code",
   "execution_count": null,
   "metadata": {},
   "outputs": [],
   "source": []
  },
  {
   "cell_type": "code",
   "execution_count": null,
   "metadata": {},
   "outputs": [],
   "source": []
  },
  {
   "cell_type": "code",
   "execution_count": null,
   "metadata": {},
   "outputs": [
    {
     "name": "stdout",
     "output_type": "stream",
     "text": [
      "Connected to PostgreSQL database: SERP_TREND_DEV_DB\n"
     ]
    },
    {
     "name": "stderr",
     "output_type": "stream",
     "text": [
      "/var/folders/ct/w3w0zg9d5w10mhf7h_d_xwym0000gn/T/ipykernel_32937/3822124451.py:26: UserWarning: pandas only supports SQLAlchemy connectable (engine/connection) or database string URI or sqlite3 DBAPI2 connection. Other DBAPI2 objects are not tested. Please consider using SQLAlchemy.\n",
      "  df = pd.read_sql_query(query, connection)\n"
     ]
    },
    {
     "name": "stdout",
     "output_type": "stream",
     "text": [
      "Query executed successfully. Retrieved 27 rows.\n",
      "Database connection closed.\n"
     ]
    },
    {
     "data": {
      "text/html": [
       "<div>\n",
       "<style scoped>\n",
       "    .dataframe tbody tr th:only-of-type {\n",
       "        vertical-align: middle;\n",
       "    }\n",
       "\n",
       "    .dataframe tbody tr th {\n",
       "        vertical-align: top;\n",
       "    }\n",
       "\n",
       "    .dataframe thead th {\n",
       "        text-align: right;\n",
       "    }\n",
       "</style>\n",
       "<table border=\"1\" class=\"dataframe\">\n",
       "  <thead>\n",
       "    <tr style=\"text-align: right;\">\n",
       "      <th></th>\n",
       "      <th>author</th>\n",
       "    </tr>\n",
       "  </thead>\n",
       "  <tbody>\n",
       "    <tr>\n",
       "      <th>0</th>\n",
       "      <td>None</td>\n",
       "    </tr>\n",
       "    <tr>\n",
       "      <th>1</th>\n",
       "      <td>Cyrus Bamji</td>\n",
       "    </tr>\n",
       "    <tr>\n",
       "      <th>2</th>\n",
       "      <td>Ryan K. Snover, Investment Adviser Representative</td>\n",
       "    </tr>\n",
       "    <tr>\n",
       "      <th>3</th>\n",
       "      <td>Aisha Malik</td>\n",
       "    </tr>\n",
       "    <tr>\n",
       "      <th>4</th>\n",
       "      <td>Afshan Musani,Meredith Mutter</td>\n",
       "    </tr>\n",
       "    <tr>\n",
       "      <th>5</th>\n",
       "      <td>Rae Bennett</td>\n",
       "    </tr>\n",
       "    <tr>\n",
       "      <th>6</th>\n",
       "      <td>Rebecca Bellan</td>\n",
       "    </tr>\n",
       "    <tr>\n",
       "      <th>7</th>\n",
       "      <td>Reece Rogers</td>\n",
       "    </tr>\n",
       "    <tr>\n",
       "      <th>8</th>\n",
       "      <td>mshepard</td>\n",
       "    </tr>\n",
       "    <tr>\n",
       "      <th>9</th>\n",
       "      <td>Julie Bort</td>\n",
       "    </tr>\n",
       "    <tr>\n",
       "      <th>10</th>\n",
       "      <td>Carl Franzen</td>\n",
       "    </tr>\n",
       "    <tr>\n",
       "      <th>11</th>\n",
       "      <td>George</td>\n",
       "    </tr>\n",
       "    <tr>\n",
       "      <th>12</th>\n",
       "      <td>Christine Benz</td>\n",
       "    </tr>\n",
       "    <tr>\n",
       "      <th>13</th>\n",
       "      <td>Kathryn Pomroy</td>\n",
       "    </tr>\n",
       "    <tr>\n",
       "      <th>14</th>\n",
       "      <td>Dominic Madori Davis</td>\n",
       "    </tr>\n",
       "    <tr>\n",
       "      <th>15</th>\n",
       "      <td>noble.dana</td>\n",
       "    </tr>\n",
       "    <tr>\n",
       "      <th>16</th>\n",
       "      <td>Matt Burgess</td>\n",
       "    </tr>\n",
       "    <tr>\n",
       "      <th>17</th>\n",
       "      <td>Elaine Handley</td>\n",
       "    </tr>\n",
       "    <tr>\n",
       "      <th>18</th>\n",
       "      <td>Kylie Robison</td>\n",
       "    </tr>\n",
       "    <tr>\n",
       "      <th>19</th>\n",
       "      <td>Maxwell Zeff</td>\n",
       "    </tr>\n",
       "    <tr>\n",
       "      <th>20</th>\n",
       "      <td>Michael Nuñez</td>\n",
       "    </tr>\n",
       "    <tr>\n",
       "      <th>21</th>\n",
       "      <td>Social Security Administration</td>\n",
       "    </tr>\n",
       "    <tr>\n",
       "      <th>22</th>\n",
       "      <td>Ivan Mehta</td>\n",
       "    </tr>\n",
       "    <tr>\n",
       "      <th>23</th>\n",
       "      <td>Jared Trexler</td>\n",
       "    </tr>\n",
       "    <tr>\n",
       "      <th>24</th>\n",
       "      <td>Jerry Golden, Investment Adviser Representative</td>\n",
       "    </tr>\n",
       "    <tr>\n",
       "      <th>25</th>\n",
       "      <td>Adam Shell</td>\n",
       "    </tr>\n",
       "    <tr>\n",
       "      <th>26</th>\n",
       "      <td>Stephanie Dhue,Sharon Epperson</td>\n",
       "    </tr>\n",
       "  </tbody>\n",
       "</table>\n",
       "</div>"
      ],
      "text/plain": [
       "                                               author\n",
       "0                                                None\n",
       "1                                         Cyrus Bamji\n",
       "2   Ryan K. Snover, Investment Adviser Representative\n",
       "3                                         Aisha Malik\n",
       "4                       Afshan Musani,Meredith Mutter\n",
       "5                                         Rae Bennett\n",
       "6                                      Rebecca Bellan\n",
       "7                                        Reece Rogers\n",
       "8                                            mshepard\n",
       "9                                          Julie Bort\n",
       "10                                       Carl Franzen\n",
       "11                                             George\n",
       "12                                     Christine Benz\n",
       "13                                     Kathryn Pomroy\n",
       "14                               Dominic Madori Davis\n",
       "15                                         noble.dana\n",
       "16                                       Matt Burgess\n",
       "17                                     Elaine Handley\n",
       "18                                      Kylie Robison\n",
       "19                                       Maxwell Zeff\n",
       "20                                      Michael Nuñez\n",
       "21                     Social Security Administration\n",
       "22                                         Ivan Mehta\n",
       "23                                      Jared Trexler\n",
       "24    Jerry Golden, Investment Adviser Representative\n",
       "25                                         Adam Shell\n",
       "26                     Stephanie Dhue,Sharon Epperson"
      ]
     },
     "execution_count": 19,
     "metadata": {},
     "output_type": "execute_result"
    }
   ],
   "source": [
    "result_df = execute_postgres_query_improved(\"SELECT distinct author FROM structured_content;\",postgres_config)\n",
    "result_df"
   ]
  },
  {
   "cell_type": "code",
   "execution_count": null,
   "metadata": {},
   "outputs": [
    {
     "name": "stdout",
     "output_type": "stream",
     "text": [
      "Connected to PostgreSQL database: SERP_TREND_DEV_DB\n"
     ]
    },
    {
     "name": "stderr",
     "output_type": "stream",
     "text": [
      "/var/folders/ct/w3w0zg9d5w10mhf7h_d_xwym0000gn/T/ipykernel_32937/3822124451.py:26: UserWarning: pandas only supports SQLAlchemy connectable (engine/connection) or database string URI or sqlite3 DBAPI2 connection. Other DBAPI2 objects are not tested. Please consider using SQLAlchemy.\n",
      "  df = pd.read_sql_query(query, connection)\n"
     ]
    },
    {
     "name": "stdout",
     "output_type": "stream",
     "text": [
      "Query executed successfully. Retrieved 1 rows.\n",
      "Database connection closed.\n"
     ]
    },
    {
     "data": {
      "text/html": [
       "<div>\n",
       "<style scoped>\n",
       "    .dataframe tbody tr th:only-of-type {\n",
       "        vertical-align: middle;\n",
       "    }\n",
       "\n",
       "    .dataframe tbody tr th {\n",
       "        vertical-align: top;\n",
       "    }\n",
       "\n",
       "    .dataframe thead th {\n",
       "        text-align: right;\n",
       "    }\n",
       "</style>\n",
       "<table border=\"1\" class=\"dataframe\">\n",
       "  <thead>\n",
       "    <tr style=\"text-align: right;\">\n",
       "      <th></th>\n",
       "      <th>count</th>\n",
       "    </tr>\n",
       "  </thead>\n",
       "  <tbody>\n",
       "    <tr>\n",
       "      <th>0</th>\n",
       "      <td>112</td>\n",
       "    </tr>\n",
       "  </tbody>\n",
       "</table>\n",
       "</div>"
      ],
      "text/plain": [
       "   count\n",
       "0    112"
      ]
     },
     "execution_count": 21,
     "metadata": {},
     "output_type": "execute_result"
    }
   ],
   "source": [
    "# how many articles id\n",
    "result_df = execute_postgres_query_improved(\"SELECT count(distinct id) FROM structured_content;\",postgres_config)\n",
    "result_df"
   ]
  },
  {
   "cell_type": "code",
   "execution_count": null,
   "metadata": {},
   "outputs": [
    {
     "name": "stdout",
     "output_type": "stream",
     "text": [
      "Connected to PostgreSQL database: SERP_TREND_DEV_DB\n"
     ]
    },
    {
     "name": "stderr",
     "output_type": "stream",
     "text": [
      "/var/folders/ct/w3w0zg9d5w10mhf7h_d_xwym0000gn/T/ipykernel_32937/3822124451.py:26: UserWarning: pandas only supports SQLAlchemy connectable (engine/connection) or database string URI or sqlite3 DBAPI2 connection. Other DBAPI2 objects are not tested. Please consider using SQLAlchemy.\n",
      "  df = pd.read_sql_query(query, connection)\n"
     ]
    },
    {
     "name": "stdout",
     "output_type": "stream",
     "text": [
      "Query executed successfully. Retrieved 1 rows.\n",
      "Database connection closed.\n"
     ]
    },
    {
     "data": {
      "text/html": [
       "<div>\n",
       "<style scoped>\n",
       "    .dataframe tbody tr th:only-of-type {\n",
       "        vertical-align: middle;\n",
       "    }\n",
       "\n",
       "    .dataframe tbody tr th {\n",
       "        vertical-align: top;\n",
       "    }\n",
       "\n",
       "    .dataframe thead th {\n",
       "        text-align: right;\n",
       "    }\n",
       "</style>\n",
       "<table border=\"1\" class=\"dataframe\">\n",
       "  <thead>\n",
       "    <tr style=\"text-align: right;\">\n",
       "      <th></th>\n",
       "      <th>count</th>\n",
       "    </tr>\n",
       "  </thead>\n",
       "  <tbody>\n",
       "    <tr>\n",
       "      <th>0</th>\n",
       "      <td>112</td>\n",
       "    </tr>\n",
       "  </tbody>\n",
       "</table>\n",
       "</div>"
      ],
      "text/plain": [
       "   count\n",
       "0    112"
      ]
     },
     "execution_count": 22,
     "metadata": {},
     "output_type": "execute_result"
    }
   ],
   "source": [
    "# how many articles id\n",
    "result_df = execute_postgres_query_improved(\"SELECT count(distinct url) FROM structured_content;\",postgres_config)\n",
    "result_df\n"
   ]
  },
  {
   "cell_type": "code",
   "execution_count": null,
   "metadata": {},
   "outputs": [
    {
     "name": "stdout",
     "output_type": "stream",
     "text": [
      "Connected to PostgreSQL database: SERP_TREND_DEV_DB\n"
     ]
    },
    {
     "name": "stderr",
     "output_type": "stream",
     "text": [
      "/var/folders/ct/w3w0zg9d5w10mhf7h_d_xwym0000gn/T/ipykernel_53797/3822124451.py:26: UserWarning: pandas only supports SQLAlchemy connectable (engine/connection) or database string URI or sqlite3 DBAPI2 connection. Other DBAPI2 objects are not tested. Please consider using SQLAlchemy.\n",
      "  df = pd.read_sql_query(query, connection)\n"
     ]
    },
    {
     "name": "stdout",
     "output_type": "stream",
     "text": [
      "Query executed successfully. Retrieved 1 rows.\n",
      "Database connection closed.\n"
     ]
    },
    {
     "data": {
      "text/html": [
       "<div>\n",
       "<style scoped>\n",
       "    .dataframe tbody tr th:only-of-type {\n",
       "        vertical-align: middle;\n",
       "    }\n",
       "\n",
       "    .dataframe tbody tr th {\n",
       "        vertical-align: top;\n",
       "    }\n",
       "\n",
       "    .dataframe thead th {\n",
       "        text-align: right;\n",
       "    }\n",
       "</style>\n",
       "<table border=\"1\" class=\"dataframe\">\n",
       "  <thead>\n",
       "    <tr style=\"text-align: right;\">\n",
       "      <th></th>\n",
       "      <th>count</th>\n",
       "    </tr>\n",
       "  </thead>\n",
       "  <tbody>\n",
       "    <tr>\n",
       "      <th>0</th>\n",
       "      <td>81</td>\n",
       "    </tr>\n",
       "  </tbody>\n",
       "</table>\n",
       "</div>"
      ],
      "text/plain": [
       "   count\n",
       "0     81"
      ]
     },
     "execution_count": 29,
     "metadata": {},
     "output_type": "execute_result"
    }
   ],
   "source": [
    "result_df = execute_postgres_query_improved(\"SELECT count(*) FROM structured_content WHERE author IS NULL;\",postgres_config)\n",
    "result_df"
   ]
  },
  {
   "cell_type": "markdown",
   "metadata": {},
   "source": [
    "## Custom Query Execution\n",
    "\n",
    "Use the cell below to execute your own custom queries. Simply modify the `custom_query` variable and run the cell."
   ]
  },
  {
   "cell_type": "code",
   "execution_count": null,
   "metadata": {},
   "outputs": [
    {
     "name": "stdout",
     "output_type": "stream",
     "text": [
      "Executing custom query: SELECT \n",
      "    COUNT(*) as total_records,\n",
      "    COUNT(DISTINCT url) as unique_ids\n",
      "FROM structured_content;\n",
      "--------------------------------------------------\n",
      "Connected to PostgreSQL database: SERP_TREND_DEV_DB\n"
     ]
    },
    {
     "name": "stderr",
     "output_type": "stream",
     "text": [
      "/var/folders/ct/w3w0zg9d5w10mhf7h_d_xwym0000gn/T/ipykernel_53797/3822124451.py:26: UserWarning: pandas only supports SQLAlchemy connectable (engine/connection) or database string URI or sqlite3 DBAPI2 connection. Other DBAPI2 objects are not tested. Please consider using SQLAlchemy.\n",
      "  df = pd.read_sql_query(query, connection)\n"
     ]
    },
    {
     "name": "stdout",
     "output_type": "stream",
     "text": [
      "Query executed successfully. Retrieved 1 rows.\n",
      "Database connection closed.\n",
      "\n",
      "Custom Query Results:\n"
     ]
    },
    {
     "data": {
      "text/html": [
       "<div>\n",
       "<style scoped>\n",
       "    .dataframe tbody tr th:only-of-type {\n",
       "        vertical-align: middle;\n",
       "    }\n",
       "\n",
       "    .dataframe tbody tr th {\n",
       "        vertical-align: top;\n",
       "    }\n",
       "\n",
       "    .dataframe thead th {\n",
       "        text-align: right;\n",
       "    }\n",
       "</style>\n",
       "<table border=\"1\" class=\"dataframe\">\n",
       "  <thead>\n",
       "    <tr style=\"text-align: right;\">\n",
       "      <th></th>\n",
       "      <th>total_records</th>\n",
       "      <th>unique_ids</th>\n",
       "    </tr>\n",
       "  </thead>\n",
       "  <tbody>\n",
       "    <tr>\n",
       "      <th>0</th>\n",
       "      <td>112</td>\n",
       "      <td>112</td>\n",
       "    </tr>\n",
       "  </tbody>\n",
       "</table>\n",
       "</div>"
      ],
      "text/plain": [
       "   total_records  unique_ids\n",
       "0            112         112"
      ]
     },
     "metadata": {},
     "output_type": "display_data"
    }
   ],
   "source": [
    "# Define your custom query here\n",
    "custom_query = \"\"\"\n",
    "SELECT \n",
    "    COUNT(*) as total_records,\n",
    "    COUNT(DISTINCT url) as unique_ids\n",
    "FROM structured_content;\n",
    "\"\"\"\n",
    "\n",
    "print(f\"Executing custom query: {custom_query.strip()}\")\n",
    "print(\"-\" * 50)\n",
    "\n",
    "try:\n",
    "    custom_result = execute_postgres_query_improved(custom_query, postgres_config)\n",
    "    \n",
    "    print(\"\\nCustom Query Results:\")\n",
    "    display(custom_result)\n",
    "    \n",
    "except Exception as e:\n",
    "    print(f\"Error executing custom query: {e}\")"
   ]
  },
  {
   "cell_type": "markdown",
   "metadata": {},
   "source": [
    "## Data Analysis Examples\n",
    "\n",
    "Here are some example analyses you can perform with the data:"
   ]
  },
  {
   "cell_type": "code",
   "execution_count": null,
   "metadata": {},
   "outputs": [],
   "source": [
    "# Example: Get table schema information\n",
    "schema_query = \"\"\"\n",
    "SELECT \n",
    "    column_name,\n",
    "    data_type,\n",
    "    is_nullable,\n",
    "    column_default\n",
    "FROM information_schema.columns \n",
    "WHERE table_name = 'structured_content'\n",
    "ORDER BY ordinal_position;\n",
    "\"\"\"\n",
    "\n",
    "try:\n",
    "    schema_df = execute_postgres_query_improved(schema_query, postgres_config)\n",
    "    print(\"\\nTable Schema:\")\n",
    "    display(schema_df)\n",
    "except Exception as e:\n",
    "    print(f\"Error getting schema: {e}\")"
   ]
  },
  {
   "cell_type": "code",
   "execution_count": null,
   "metadata": {},
   "outputs": [],
   "source": [
    "# Example: Basic data exploration\n",
    "exploration_query = \"\"\"\n",
    "SELECT \n",
    "    COUNT(*) as total_rows,\n",
    "    COUNT(DISTINCT id) as unique_ids,\n",
    "    MIN(created_at) as earliest_date,\n",
    "    MAX(created_at) as latest_date\n",
    "FROM structured_content;\n",
    "\"\"\"\n",
    "\n",
    "try:\n",
    "    exploration_df = execute_postgres_query_improved(exploration_query, postgres_config)\n",
    "    print(\"\\nData Exploration:\")\n",
    "    display(exploration_df)\n",
    "except Exception as e:\n",
    "    print(f\"Error in data exploration: {e}\")"
   ]
  },
  {
   "cell_type": "markdown",
   "metadata": {},
   "source": [
    "## Alternative Installation Methods\n",
    "\n",
    "If the automatic installation above doesn't work, try these alternative methods:"
   ]
  },
  {
   "cell_type": "code",
   "execution_count": null,
   "metadata": {},
   "outputs": [],
   "source": [
    "# Alternative 1: Install from requirements.txt\n",
    "# Run this cell if you want to install all project dependencies\n",
    "import subprocess\n",
    "import sys\n",
    "\n",
    "try:\n",
    "    result = subprocess.run([sys.executable, \"-m\", \"pip\", \"install\", \"-r\", \"../requirements.txt\"], \n",
    "                          capture_output=True, text=True, check=True)\n",
    "    print(\"✅ All requirements installed successfully\")\n",
    "    print(result.stdout)\n",
    "except subprocess.CalledProcessError as e:\n",
    "    print(f\"❌ Error installing requirements: {e}\")\n",
    "    print(f\"Error output: {e.stderr}\")"
   ]
  },
  {
   "cell_type": "code",
   "execution_count": null,
   "metadata": {},
   "outputs": [],
   "source": [
    "# Alternative 2: Manual conda installation (if using conda environment)\n",
    "# Uncomment and run if you're using conda\n",
    "\n",
    "# import subprocess\n",
    "# import sys\n",
    "\n",
    "# try:\n",
    "#     result = subprocess.run([\"conda\", \"install\", \"-c\", \"conda-forge\", \"psycopg2\", \"-y\"], \n",
    "#                           capture_output=True, text=True, check=True)\n",
    "#     print(\"✅ psycopg2 installed via conda successfully\")\n",
    "#     print(result.stdout)\n",
    "# except subprocess.CalledProcessError as e:\n",
    "#     print(f\"❌ Error installing via conda: {e}\")\n",
    "#     print(f\"Error output: {e.stderr}\")"
   ]
  },
  {
   "cell_type": "markdown",
   "metadata": {},
   "source": [
    "## Quick Reference\n",
    "\n",
    "### Main Function\n",
    "```python\n",
    "# Execute any PostgreSQL query and get results as DataFrame\n",
    "df = execute_postgres_query_improved(\"YOUR_SQL_QUERY_HERE\", postgres_config)\n",
    "```\n",
    "\n",
    "### Configuration\n",
    "- Configuration is loaded from `../config/config_boomer_load.yml`\n",
    "- PostgreSQL connection parameters are automatically parsed\n",
    "- Connection is automatically closed after each query\n",
    "\n",
    "### Error Handling\n",
    "- All database errors are caught and displayed\n",
    "- Connection is always properly closed\n",
    "- Detailed error messages help with troubleshooting\n",
    "\n",
    "### Installation Troubleshooting\n",
    "If you encounter issues with psycopg2 installation:\n",
    "\n",
    "1. **Try psycopg2-binary**: This is usually easier to install\n",
    "2. **Check your Python environment**: Make sure you're in the correct virtual environment\n",
    "3. **System dependencies**: On some systems, you may need to install PostgreSQL development headers\n",
    "4. **Use conda**: If using Anaconda/Miniconda, try installing via conda instead of pip\n",
    "\n",
    "### Command Line Installation\n",
    "If the notebook installation fails, try these commands in your terminal:\n",
    "\n",
    "```bash\n",
    "# Using pip\n",
    "pip install psycopg2-binary==2.9.7\n",
    "\n",
    "# Using conda\n",
    "conda install -c conda-forge psycopg2\n",
    "\n",
    "# Install all project requirements\n",
    "pip install -r requirements.txt\n",
    "```"
   ]
  }
 ],
 "metadata": {
  "kernelspec": {
   "display_name": "agentic-rag-neo4j-new",
   "language": "python",
   "name": "python3"
  },
  "language_info": {
   "codemirror_mode": {
    "name": "ipython",
    "version": 3
   },
   "file_extension": ".py",
   "mimetype": "text/x-python",
   "name": "python",
   "nbconvert_exporter": "python",
   "pygments_lexer": "ipython3",
   "version": "3.11.13"
  }
 },
 "nbformat": 4,
 "nbformat_minor": 4
}
